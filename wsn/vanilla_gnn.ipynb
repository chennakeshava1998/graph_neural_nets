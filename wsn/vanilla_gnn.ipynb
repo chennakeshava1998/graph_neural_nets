{
 "cells": [
  {
   "cell_type": "code",
   "execution_count": 1,
   "metadata": {},
   "outputs": [],
   "source": [
    "import numpy as np\n",
    "import tensorflow as tf\n",
    "import etp as etp\n",
    "import calculate_virtual_coordinates as cvc\n",
    "import matplotlib.pyplot as plt\n",
    "\n",
    "from random import seed\n",
    "from random import randint\n",
    "seed(23)\n",
    "\n",
    "C = 5 # maximum number of anchors\n",
    "H = 500 # size of hidden filters\n",
    "F = 2 # Final dimension of coordinates\n",
    "random_seed = 23\n",
    "radius = 1 # extent of possible communication\n",
    "MAX_NODES = 10\n",
    "learning_rate = 0.7\n",
    "epochs = 1000\n",
    "display_cost_period = 200"
   ]
  },
  {
   "cell_type": "code",
   "execution_count": 2,
   "metadata": {},
   "outputs": [],
   "source": [
    "def plot_learning(cost_history):\n",
    "    plt.plot(cost_history)\n",
    "    plt.xlabel('Epochs')\n",
    "    plt.ylabel('Mean Squared Error')\n",
    "    plt.title('Learning Curve')\n",
    "    plt.show()"
   ]
  },
  {
   "cell_type": "code",
   "execution_count": 5,
   "metadata": {
    "scrolled": true
   },
   "outputs": [],
   "source": [
    "g = tf.Graph()\n",
    "\n",
    "with g.as_default():\n",
    "    tf.set_random_seed(random_seed)\n",
    "    W_0 = tf.Variable(tf.truncated_normal(shape=(C, H),\n",
    "                                      mean=0.0,\n",
    "                                      stddev=0.1,\n",
    "                                      dtype=tf.float32,\n",
    "                                      seed=random_seed))\n",
    "    \n",
    "    W_1 = tf.Variable(tf.truncated_normal(shape=(H, F),\n",
    "                                  mean=0.0,\n",
    "                                  stddev=0.1,\n",
    "                                  dtype=tf.float32,\n",
    "                                  seed=random_seed))\n",
    "    \n",
    "\n",
    "    input_layer = tf.placeholder(tf.float32, [None, C], # INPUT: num_of_nodes X VC_values\n",
    "                                 name='input')\n",
    "    \n",
    "    physical_coordinates = tf.placeholder(tf.float32, [None, F], # INPUT: num_of_nodes X geographic_coordinates\n",
    "                                 name='phy_coord')\n",
    "    \n",
    "    adj = tf.placeholder(tf.float32, [None, None], # INPUT: num_of_nodes X num_of_nodes\n",
    "                                 name='adj')\n",
    "    \n",
    "    A_caret = tf.placeholder(tf.float32, [None, None], # INPUT: num_of_nodes X num_of_nodes\n",
    "                                 name='A_caret')\n",
    "\n",
    "    \n",
    "    out_1 = tf.matmul(tf.matmul(A_caret, input_layer), W_0)\n",
    "    out_2 = tf.matmul(tf.matmul(A_caret, out_1), W_1)\n",
    "    \n",
    "#     curr_etp = etp.get_best_etp(out_2, physical_coordinates)\n",
    "    \n",
    "    \n",
    "#     cost = etp.get_best_etp(out_2, physical_coordinates)\n",
    "#     cost = etp.get_best_etp(out_2, physical_coordinates)\n",
    "    \n",
    "    cost = tf.losses.mean_squared_error(out_2, physical_coordinates)\n",
    "    optimizer = tf.train.GradientDescentOptimizer(learning_rate=learning_rate).minimize(cost)\n",
    "\n",
    "    saver = tf.train.Saver()\n",
    "\n",
    "\n",
    "\n",
    " "
   ]
  },
  {
   "cell_type": "code",
   "execution_count": null,
   "metadata": {},
   "outputs": [
    {
     "data": {
      "image/png": "[encoded data removed]",
      "text/plain": [
       "<Figure size 432x288 with 1 Axes>"
      ]
     },
     "metadata": {
      "needs_background": "light"
     },
     "output_type": "display_data"
    },
    {
     "name": "stdout",
     "output_type": "stream",
     "text": [
      "Epoch: 0\t cost: 21144.19140625\t ETP: 0.0\n",
      "Epoch: 1\t cost: 66751.75\t ETP: 0.0\n",
      "Epoch: 2\t cost: 86401.0234375\t ETP: 0.0\n",
      "Epoch: 3\t cost: 91812.1875\t ETP: 0.0\n"
     ]
    }
   ],
   "source": [
    "\n",
    "cost_history = []\n",
    "etp_history = []\n",
    "with tf.Session(graph=g) as sess:\n",
    "    # `sess.graph` provides access to the graph used in a `tf.Session`.\n",
    "    writer = tf.summary.FileWriter(\"/tmp/log/...\", sess.graph)\n",
    "\n",
    "    # Perform your computation...\n",
    "    for i in range(epochs):\n",
    "        init_op = tf.global_variables_initializer()\n",
    "        sess.run(init_op)\n",
    "        \n",
    "        phy_coord, inps = cvc.get_VC(randint(6, MAX_NODES))\n",
    "        adj_matrix = cvc.get_adj(phy_coord)\n",
    "        A_caret_matrix = cvc.normalize_adj(adj_matrix + np.eye(adj_matrix.shape[0]))\n",
    "\n",
    "\n",
    "\n",
    "        curr_cost, curr_out = sess.run([cost, out_2], feed_dict={input_layer: inps,\n",
    "                                        physical_coordinates: phy_coord,\n",
    "                                        adj: adj_matrix,\n",
    "                                        A_caret: A_caret_matrix})\n",
    "        curr_etp = etp.get_best_etp(curr_out, phy_coord)\n",
    "\n",
    "        etp_history.append(curr_etp)\n",
    "\n",
    "\n",
    "        cost_history.append(curr_cost)\n",
    "        if not i%display_cost_period:\n",
    "            plot_learning(cost_history)\n",
    "\n",
    "        print('Epoch: {}\\t cost: {}\\t ETP: {}'.format(i, curr_cost, curr_etp.eval()))\n",
    "        \n",
    "    save_path = saver.save(sess, \"~/Desktop/graph_neural_nets/wsn/checkpoints/model_h_1_g_1000.ckpt\")\n",
    "    print(\"Model saved in path: %s\" % save_path)\n",
    "\n",
    "\n",
    "\n",
    "\n",
    "\n",
    "\n",
    "    writer.close()\n"
   ]
  },
  {
   "cell_type": "code",
   "execution_count": null,
   "metadata": {},
   "outputs": [],
   "source": [
    "plot_learning(cost_history)"
   ]
  },
  {
   "cell_type": "code",
   "execution_count": null,
   "metadata": {},
   "outputs": [],
   "source": []
  }
 ],
 "metadata": {
  "kernelspec": {
   "display_name": "Python 3",
   "language": "python",
   "name": "python3"
  },
  "language_info": {
   "codemirror_mode": {
    "name": "ipython",
    "version": 3
   },
   "file_extension": ".py",
   "mimetype": "text/x-python",
   "name": "python",
   "nbconvert_exporter": "python",
   "pygments_lexer": "ipython3",
   "version": "3.7.3"
  }
 },
 "nbformat": 4,
 "nbformat_minor": 2
}
