{
 "cells": [
  {
   "cell_type": "code",
   "execution_count": 1,
   "metadata": {},
   "outputs": [],
   "source": [
    "import numpy as np\n",
    "import tensorflow as tf\n",
    "random_seed = 23\n",
    "# tf.enable_eager_execution()\n",
    "tf.set_random_seed(random_seed)\n",
    "\n",
    "\n",
    "import etp as etp\n",
    "import calculate_virtual_coordinates as cvc"
   ]
  },
  {
   "cell_type": "code",
   "execution_count": 2,
   "metadata": {},
   "outputs": [
    {
     "name": "stdout",
     "output_type": "stream",
     "text": [
      "WARNING:tensorflow:From /home/keshava/anaconda3/lib/python3.7/site-packages/tensorflow/python/framework/op_def_library.py:263: colocate_with (from tensorflow.python.framework.ops) is deprecated and will be removed in a future version.\n",
      "Instructions for updating:\n",
      "Colocations handled automatically by placer.\n",
      "DEBUG: A = Tensor(\"Reshape:0\", shape=(10, 2), dtype=float32)\n",
      "DEBUG: B = Tensor(\"Reshape_1:0\", shape=(10, 2), dtype=float32)\n"
     ]
    }
   ],
   "source": [
    "g = tf.Graph()\n",
    "\n",
    "with g.as_default():\n",
    "    a = tf.Variable(tf.random.uniform(shape=[10, 2], minval=-200.0, maxval=200.0))\n",
    "    b = tf.Variable(tf.random.uniform(shape=[10, 2], minval=-200.0, maxval=200.0))\n",
    "    \n",
    "    \n",
    "    ans = etp.get_best_etp(a, b)\n",
    "    \n"
   ]
  },
  {
   "cell_type": "code",
   "execution_count": 4,
   "metadata": {},
   "outputs": [
    {
     "name": "stdout",
     "output_type": "stream",
     "text": [
      "Epoch: 0\tanswer: 140.0\n",
      "Epoch: 1\tanswer: 140.0\n",
      "Epoch: 2\tanswer: 140.0\n",
      "Epoch: 3\tanswer: 140.0\n",
      "Epoch: 4\tanswer: 140.0\n",
      "Epoch: 5\tanswer: 140.0\n",
      "Epoch: 6\tanswer: 140.0\n",
      "Epoch: 7\tanswer: 140.0\n",
      "Epoch: 8\tanswer: 140.0\n",
      "Epoch: 9\tanswer: 140.0\n"
     ]
    }
   ],
   "source": [
    "with tf.Session(graph=g) as sess:\n",
    "    init_op = tf.global_variables_initializer()\n",
    "    sess.run(init_op)\n",
    "    for i in range(10):\n",
    "        ans1 = sess.run(ans)\n",
    "        print('Epoch: {}\\tanswer: {}'.format(i, ans1))        \n"
   ]
  },
  {
   "cell_type": "code",
   "execution_count": null,
   "metadata": {},
   "outputs": [],
   "source": [
    "with tf.Session() as sess:\n",
    "    print(sess.run(etp.get_best_etp([[1, 0], [2, 0]], [[2, 0], [1, 0]])))"
   ]
  },
  {
   "cell_type": "code",
   "execution_count": null,
   "metadata": {},
   "outputs": [],
   "source": [
    "etp.get_best_etp([[1, 0], [2, 0]], [[2, 0], [1, 0]])"
   ]
  },
  {
   "cell_type": "code",
   "execution_count": null,
   "metadata": {},
   "outputs": [],
   "source": []
  }
 ],
 "metadata": {
  "kernelspec": {
   "display_name": "Python 3",
   "language": "python",
   "name": "python3"
  },
  "language_info": {
   "codemirror_mode": {
    "name": "ipython",
    "version": 3
   },
   "file_extension": ".py",
   "mimetype": "text/x-python",
   "name": "python",
   "nbconvert_exporter": "python",
   "pygments_lexer": "ipython3",
   "version": "3.7.3"
  }
 },
 "nbformat": 4,
 "nbformat_minor": 2
}
