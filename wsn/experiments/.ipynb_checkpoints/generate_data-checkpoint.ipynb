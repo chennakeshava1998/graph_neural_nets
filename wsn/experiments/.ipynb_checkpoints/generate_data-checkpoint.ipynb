{
 "cells": [
  {
   "cell_type": "code",
   "execution_count": 1,
   "metadata": {},
   "outputs": [],
   "source": [
    "import numpy as np\n",
    "import tensorflow as tf\n",
    "import etp as etp\n",
    "import calculate_virtual_coordinates as cvc\n",
    "import matplotlib.pyplot as plt\n",
    "\n",
    "from random import seed\n",
    "from random import randint\n",
    "\n",
    "import pickle\n",
    "seed(23)\n",
    "\n",
    "C = 5 # maximum number of anchors\n",
    "H1 = 500 # size of hidden filters\n",
    "H2 = 500 # size of hidden filters\n",
    "F = 2 # Final dimension of coordinates\n",
    "random_seed = 23\n",
    "radius = 1 # extent of possible communication\n",
    "MAX_NODES = 20\n",
    "learning_rate = 0.2\n",
    "epochs = 20\n",
    "display_cost_period = 10\n",
    "num_iter = 5\n",
    "\n",
    "\n",
    "# In[2]:\n",
    "\n",
    "\n",
    "def plot_learning(cost_history):\n",
    "    plt.plot(cost_history)\n",
    "    plt.xlabel('Number of Graphs')\n",
    "    plt.ylabel('Mean Squared Error')\n",
    "    plt.title('Learning Curve')\n",
    "    plt.show()\n",
    "\n",
    "\n"
   ]
  },
  {
   "cell_type": "code",
   "execution_count": 2,
   "metadata": {},
   "outputs": [
    {
     "name": "stdout",
     "output_type": "stream",
     "text": [
      "WARNING:tensorflow:From /home/keshava/anaconda3/envs/gnn/lib/python3.6/site-packages/tensorflow/python/framework/op_def_library.py:263: colocate_with (from tensorflow.python.framework.ops) is deprecated and will be removed in a future version.\n",
      "Instructions for updating:\n",
      "Colocations handled automatically by placer.\n",
      "WARNING:tensorflow:From /home/keshava/anaconda3/envs/gnn/lib/python3.6/site-packages/tensorflow/python/ops/losses/losses_impl.py:667: to_float (from tensorflow.python.ops.math_ops) is deprecated and will be removed in a future version.\n",
      "Instructions for updating:\n",
      "Use tf.cast instead.\n"
     ]
    }
   ],
   "source": [
    "g = tf.Graph()\n",
    "\n",
    "with g.as_default():\n",
    "    tf.set_random_seed(random_seed)\n",
    "    W_0 = tf.Variable(tf.truncated_normal(shape=(C, H1),\n",
    "                                      mean=0.0,\n",
    "                                      stddev=0.1,\n",
    "                                      dtype=tf.float32,\n",
    "                                      seed=random_seed), name='wt_1')\n",
    "    \n",
    "    W_1 = tf.Variable(tf.truncated_normal(shape=(H1, H2),\n",
    "                                  mean=0.0,\n",
    "                                  stddev=0.1,\n",
    "                                  dtype=tf.float32,\n",
    "                                  seed=random_seed), name='wt_2')\n",
    "\n",
    "    W_2 = tf.Variable(tf.truncated_normal(shape=(H2, F),\n",
    "                                    mean=0.0,\n",
    "                                    stddev=0.1,\n",
    "                                    dtype=tf.float32,\n",
    "                                    seed=random_seed), name='wt_3')\n",
    "    \n",
    "\n",
    "    input_layer = tf.placeholder(tf.float32, [None, C], # INPUT: num_of_nodes X VC_values\n",
    "                                 name='input')\n",
    "    \n",
    "    physical_coordinates = tf.placeholder(tf.float32, [None, F], # INPUT: num_of_nodes X geographic_coordinates\n",
    "                                 name='phy_coord')\n",
    "    \n",
    "    adj = tf.placeholder(tf.float32, [None, None], # INPUT: num_of_nodes X num_of_nodes\n",
    "                                 name='adj')\n",
    "    \n",
    "    A_caret = tf.placeholder(tf.float32, [None, None], # INPUT: num_of_nodes X num_of_nodes\n",
    "                                 name='A_caret')\n",
    "\n",
    "    \n",
    "    out_1 = tf.matmul(tf.matmul(A_caret, input_layer), W_0)\n",
    "    out_1 = tf.nn.relu(out_1)\n",
    "    out_2 = tf.matmul(tf.matmul(A_caret, out_1), W_1)\n",
    "    out_2 = tf.nn.relu(out_2)\n",
    "    \n",
    "    out_3 = tf.matmul(tf.matmul(A_caret, out_2), W_2)\n",
    "    \n",
    "    \n",
    "    cost = tf.losses.mean_squared_error(out_3, physical_coordinates)\n",
    "    optimizer = tf.train.GradientDescentOptimizer(learning_rate=learning_rate).minimize(cost)\n",
    "    \n",
    "    saver = tf.train.Saver()\n",
    "    \n",
    "\n",
    "    \n",
    "\n",
    " \n",
    "\n",
    "\n",
    "# In[ ]:\n",
    "\n",
    "\n",
    "\n",
    "# In[12]:\n",
    "\n",
    "\n"
   ]
  },
  {
   "cell_type": "code",
   "execution_count": null,
   "metadata": {},
   "outputs": [
    {
     "name": "stdout",
     "output_type": "stream",
     "text": [
      "DEBUG: Calculated all inputs\n"
     ]
    }
   ],
   "source": [
    "cost_history = []\n",
    "etp_history = []\n",
    "with tf.Session(graph=g) as sess:\n",
    "    # `sess.graph` provides access to the graph used in a `tf.Session`.\n",
    "    writer = tf.summary.FileWriter(\"./graphs\", sess.graph)\n",
    "    #saver.restore(sess, 'model_h_2_g_1000_alpha_7.ckpt')\n",
    "\n",
    "    # Perform your computation...\n",
    "    for i in range(epochs):\n",
    "        init_op = tf.global_variables_initializer()\n",
    "        sess.run(init_op)\n",
    "        \n",
    "        phy_coord, inps = cvc.get_VC(randint(10, MAX_NODES))\n",
    "        adj_matrix = cvc.get_adj(phy_coord)\n",
    "        A_caret_matrix = cvc.normalize_adj(adj_matrix + np.eye(adj_matrix.shape[0]))\n",
    "        print('DEBUG: Calculated all inputs')\n",
    "        output_1 = sess.run(out_3, feed_dict={input_layer: inps,\n",
    "                                            physical_coordinates: phy_coord,\n",
    "                                            adj: adj_matrix,\n",
    "                                            A_caret: A_caret_matrix})\n",
    "        #print('output of untrained neural network : {}'.format(output_1))\n",
    "\n",
    "        print('Epoch: {}\\t ETP-1(untrained neural network) : {}'.format(i, etp.get_best_etp(output_1, phy_coord)))\n",
    "    writer.close()"
   ]
  },
  {
   "cell_type": "code",
   "execution_count": null,
   "metadata": {},
   "outputs": [],
   "source": [
    "with open('h_2', 'wb') as fp:\n",
    "    pickle.dump(cost_history, fp)"
   ]
  },
  {
   "cell_type": "code",
   "execution_count": null,
   "metadata": {},
   "outputs": [],
   "source": []
  }
 ],
 "metadata": {
  "kernelspec": {
   "display_name": "Python 3",
   "language": "python",
   "name": "python3"
  },
  "language_info": {
   "codemirror_mode": {
    "name": "ipython",
    "version": 3
   },
   "file_extension": ".py",
   "mimetype": "text/x-python",
   "name": "python",
   "nbconvert_exporter": "python",
   "pygments_lexer": "ipython3",
   "version": "3.6.8"
  }
 },
 "nbformat": 4,
 "nbformat_minor": 2
}
