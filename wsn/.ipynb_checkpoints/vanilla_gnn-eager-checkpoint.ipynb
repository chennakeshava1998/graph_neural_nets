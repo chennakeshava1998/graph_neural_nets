{
 "cells": [
  {
   "cell_type": "code",
   "execution_count": 1,
   "metadata": {},
   "outputs": [],
   "source": [
    "import numpy as np\n",
    "import tensorflow as tf\n",
    "import etp as etp\n",
    "import calculate_virtual_coordinates as cvc\n",
    "import matplotlib.pyplot as plt\n",
    "\n",
    "tf.enable_eager_execution()\n",
    "\n",
    "from random import seed\n",
    "from random import randint\n",
    "seed(23)\n",
    "\n",
    "C = 5 # maximum number of anchors\n",
    "H = 500 # size of hidden filters\n",
    "F = 2 # Final dimension of coordinates\n",
    "random_seed = 23\n",
    "radius = 1 # extent of possible communication\n",
    "MAX_NODES = 100\n",
    "learning_rate = 0.7\n",
    "epochs = 30\n",
    "display_cost_period = 5"
   ]
  },
  {
   "cell_type": "code",
   "execution_count": 2,
   "metadata": {},
   "outputs": [],
   "source": [
    "def plot_learning(cost_history):\n",
    "    plt.plot(cost_history)\n",
    "    plt.xlabel('Epochs')\n",
    "    plt.ylabel('Mean Squared Error')\n",
    "    plt.title('Learning Curve')\n",
    "    plt.show()"
   ]
  },
  {
   "cell_type": "code",
   "execution_count": 3,
   "metadata": {
    "scrolled": true
   },
   "outputs": [],
   "source": [
    "# g = tf.Graph()\n",
    "\n",
    "class Model(object):\n",
    "    def __init__(self):\n",
    "        self.W_0 = tf.Variable(tf.truncated_normal(shape=(C, H),\n",
    "                                          mean=0.0,\n",
    "                                          stddev=0.1,\n",
    "                                          dtype=tf.float32,\n",
    "                                          seed=random_seed))\n",
    "\n",
    "        self.W_1 = tf.Variable(tf.truncated_normal(shape=(H, F),\n",
    "                                      mean=0.0,\n",
    "                                      stddev=0.1,\n",
    "                                      dtype=tf.float32,\n",
    "                                      seed=random_seed))\n",
    "    \n",
    "\n",
    "    \n",
    "    def __call__(self, A_caret, input_layer):\n",
    "        A_caret = tf.cast(A_caret, dtype=tf.float32)\n",
    "        input_layer = tf.cast(input_layer, dtype=tf.float32)\n",
    "        out_1 = tf.matmul(tf.matmul(A_caret, input_layer), self.W_0)\n",
    "        out_2 = tf.matmul(tf.matmul(A_caret, out_1), self.W_1)\n",
    "        \n",
    "        return out_2\n",
    "    \n",
    "def get_etp(out_2, physical_coordinates):\n",
    "    return etp.get_best_etp(out_2, physical_coordinates)\n",
    "\n",
    "\n",
    "def loss(pred_y, desired_y):\n",
    "#     return tf.reduce_mean(tf.square(pred_y - desired_y))\n",
    "    return tf.losses.mean_squared_error(pred_y, desired_y)\n",
    " \n",
    "\n",
    "    \n",
    "#     cost = tf.losses.mean_squared_error(out_2, physical_coordinates)\n",
    "#     optimizer = tf.train.GradientDescentOptimizer(learning_rate=learning_rate).minimize(cost)\n",
    "\n",
    "    \n",
    "\n",
    " "
   ]
  },
  {
   "cell_type": "code",
   "execution_count": 4,
   "metadata": {},
   "outputs": [],
   "source": [
    "def train(model, inputs, A_caret_matrix, outputs, learning_rate):\n",
    "    with tf.GradientTape() as t:\n",
    "        current_loss = loss(model(inputs), outputs)\n",
    "    dW, db = t.gradient(current_loss, [model.W_0, model.W_1])\n",
    "    model.W_0.assign_sub(learning_rate * dW)\n",
    "    model.W_1.assign_sub(learning_rate * db)\n"
   ]
  },
  {
   "cell_type": "code",
   "execution_count": 5,
   "metadata": {},
   "outputs": [
    {
     "name": "stdout",
     "output_type": "stream",
     "text": [
      "Calculated all the inputs\n"
     ]
    },
    {
     "ename": "TypeError",
     "evalue": "__call__() missing 1 required positional argument: 'input_layer'",
     "output_type": "error",
     "traceback": [
      "\u001b[0;31m---------------------------------------------------------------------------\u001b[0m",
      "\u001b[0;31mTypeError\u001b[0m                                 Traceback (most recent call last)",
      "\u001b[0;32m<ipython-input-5-3648b1d61266>\u001b[0m in \u001b[0;36m<module>\u001b[0;34m\u001b[0m\n\u001b[1;32m     17\u001b[0m     \u001b[0mcurr_etp\u001b[0m \u001b[0;34m=\u001b[0m \u001b[0mget_etp\u001b[0m\u001b[0;34m(\u001b[0m\u001b[0mmodel\u001b[0m\u001b[0;34m(\u001b[0m\u001b[0mA_caret_matrix\u001b[0m\u001b[0;34m,\u001b[0m \u001b[0minputs\u001b[0m\u001b[0;34m)\u001b[0m\u001b[0;34m,\u001b[0m \u001b[0mphy_coord\u001b[0m\u001b[0;34m)\u001b[0m\u001b[0;34m\u001b[0m\u001b[0;34m\u001b[0m\u001b[0m\n\u001b[1;32m     18\u001b[0m \u001b[0;34m\u001b[0m\u001b[0m\n\u001b[0;32m---> 19\u001b[0;31m     \u001b[0mtrain\u001b[0m\u001b[0;34m(\u001b[0m\u001b[0mmodel\u001b[0m\u001b[0;34m,\u001b[0m \u001b[0minputs\u001b[0m\u001b[0;34m,\u001b[0m \u001b[0moutputs\u001b[0m\u001b[0;34m,\u001b[0m \u001b[0mlearning_rate\u001b[0m\u001b[0;34m=\u001b[0m\u001b[0;36m0.1\u001b[0m\u001b[0;34m)\u001b[0m\u001b[0;34m\u001b[0m\u001b[0;34m\u001b[0m\u001b[0m\n\u001b[0m\u001b[1;32m     20\u001b[0m \u001b[0;34m\u001b[0m\u001b[0m\n\u001b[1;32m     21\u001b[0m \u001b[0;34m\u001b[0m\u001b[0m\n",
      "\u001b[0;32m<ipython-input-4-158373126a9a>\u001b[0m in \u001b[0;36mtrain\u001b[0;34m(model, inputs, outputs, learning_rate)\u001b[0m\n\u001b[1;32m      1\u001b[0m \u001b[0;32mdef\u001b[0m \u001b[0mtrain\u001b[0m\u001b[0;34m(\u001b[0m\u001b[0mmodel\u001b[0m\u001b[0;34m,\u001b[0m \u001b[0minputs\u001b[0m\u001b[0;34m,\u001b[0m \u001b[0moutputs\u001b[0m\u001b[0;34m,\u001b[0m \u001b[0mlearning_rate\u001b[0m\u001b[0;34m)\u001b[0m\u001b[0;34m:\u001b[0m\u001b[0;34m\u001b[0m\u001b[0;34m\u001b[0m\u001b[0m\n\u001b[1;32m      2\u001b[0m     \u001b[0;32mwith\u001b[0m \u001b[0mtf\u001b[0m\u001b[0;34m.\u001b[0m\u001b[0mGradientTape\u001b[0m\u001b[0;34m(\u001b[0m\u001b[0;34m)\u001b[0m \u001b[0;32mas\u001b[0m \u001b[0mt\u001b[0m\u001b[0;34m:\u001b[0m\u001b[0;34m\u001b[0m\u001b[0;34m\u001b[0m\u001b[0m\n\u001b[0;32m----> 3\u001b[0;31m         \u001b[0mcurrent_loss\u001b[0m \u001b[0;34m=\u001b[0m \u001b[0mloss\u001b[0m\u001b[0;34m(\u001b[0m\u001b[0mmodel\u001b[0m\u001b[0;34m(\u001b[0m\u001b[0minputs\u001b[0m\u001b[0;34m)\u001b[0m\u001b[0;34m,\u001b[0m \u001b[0moutputs\u001b[0m\u001b[0;34m)\u001b[0m\u001b[0;34m\u001b[0m\u001b[0;34m\u001b[0m\u001b[0m\n\u001b[0m\u001b[1;32m      4\u001b[0m     \u001b[0mdW\u001b[0m\u001b[0;34m,\u001b[0m \u001b[0mdb\u001b[0m \u001b[0;34m=\u001b[0m \u001b[0mt\u001b[0m\u001b[0;34m.\u001b[0m\u001b[0mgradient\u001b[0m\u001b[0;34m(\u001b[0m\u001b[0mcurrent_loss\u001b[0m\u001b[0;34m,\u001b[0m \u001b[0;34m[\u001b[0m\u001b[0mmodel\u001b[0m\u001b[0;34m.\u001b[0m\u001b[0mW_0\u001b[0m\u001b[0;34m,\u001b[0m \u001b[0mmodel\u001b[0m\u001b[0;34m.\u001b[0m\u001b[0mW_1\u001b[0m\u001b[0;34m]\u001b[0m\u001b[0;34m)\u001b[0m\u001b[0;34m\u001b[0m\u001b[0;34m\u001b[0m\u001b[0m\n\u001b[1;32m      5\u001b[0m     \u001b[0mmodel\u001b[0m\u001b[0;34m.\u001b[0m\u001b[0mW_0\u001b[0m\u001b[0;34m.\u001b[0m\u001b[0massign_sub\u001b[0m\u001b[0;34m(\u001b[0m\u001b[0mlearning_rate\u001b[0m \u001b[0;34m*\u001b[0m \u001b[0mdW\u001b[0m\u001b[0;34m)\u001b[0m\u001b[0;34m\u001b[0m\u001b[0;34m\u001b[0m\u001b[0m\n",
      "\u001b[0;31mTypeError\u001b[0m: __call__() missing 1 required positional argument: 'input_layer'"
     ]
    }
   ],
   "source": [
    "cost_history = []\n",
    "etp_history = []\n",
    "\n",
    "model = Model()\n",
    "# Perform your computation...\n",
    "for i in range(epochs):\n",
    "\n",
    "    phy_coord, inps = cvc.get_VC(randint(6, MAX_NODES))\n",
    "    adj_matrix = cvc.get_adj(phy_coord)\n",
    "    A_caret_matrix = cvc.normalize_adj(adj_matrix + np.eye(adj_matrix.shape[0]))\n",
    "\n",
    "#     print('Calculated all the inputs')\n",
    "    \n",
    "    inputs = inps\n",
    "    outputs = phy_coord\n",
    "    curr_loss = loss(model(A_caret_matrix, inputs), outputs)\n",
    "    curr_etp = get_etp(model(A_caret_matrix, inputs), phy_coord)\n",
    "    \n",
    "    train(model, inputs, A_caret_matrix, outputs, learning_rate=0.1)\n",
    "\n",
    "    \n",
    "\n",
    "\n",
    "    cost_history.append(curr_loss)\n",
    "    etp_history.append(curr_etp)\n",
    "    \n",
    "    if not i%display_cost_period:\n",
    "        plot_learning(cost_history)\n",
    "\n",
    "    print('Epoch: {}\\t cost: {}\\t Etp: {}'.format(i, curr_loss, curr_etp))\n",
    "        \n",
    "        \n",
    "        \n",
    "            "
   ]
  },
  {
   "cell_type": "code",
   "execution_count": null,
   "metadata": {},
   "outputs": [],
   "source": [
    "plot_learning(cost_history)"
   ]
  },
  {
   "cell_type": "code",
   "execution_count": null,
   "metadata": {},
   "outputs": [],
   "source": []
  }
 ],
 "metadata": {
  "kernelspec": {
   "display_name": "Python 3",
   "language": "python",
   "name": "python3"
  },
  "language_info": {
   "codemirror_mode": {
    "name": "ipython",
    "version": 3
   },
   "file_extension": ".py",
   "mimetype": "text/x-python",
   "name": "python",
   "nbconvert_exporter": "python",
   "pygments_lexer": "ipython3",
   "version": "3.7.3"
  }
 },
 "nbformat": 4,
 "nbformat_minor": 2
}
