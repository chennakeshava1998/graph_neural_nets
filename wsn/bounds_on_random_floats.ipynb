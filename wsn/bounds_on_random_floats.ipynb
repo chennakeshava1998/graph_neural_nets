{
 "cells": [
  {
   "cell_type": "code",
   "execution_count": 9,
   "metadata": {},
   "outputs": [],
   "source": [
    "import numpy as np\n",
    "import calculate_virtual_coordinates as cvc\n",
    "from random import randint\n",
    "from random import seed\n",
    "seed(23)\n",
    "mini = 0\n",
    "maxi = 0"
   ]
  },
  {
   "cell_type": "code",
   "execution_count": 10,
   "metadata": {},
   "outputs": [],
   "source": [
    "def generate_physical_coordinates(n):\n",
    "    phy_coord = np.random.randn(n, 2)\n",
    "    return phy_coord"
   ]
  },
  {
   "cell_type": "code",
   "execution_count": 11,
   "metadata": {},
   "outputs": [
    {
     "name": "stdout",
     "output_type": "stream",
     "text": [
      "i = 0\tmax = 3.1045789959278633\tmin = -3.1006016143945434\n",
      "i = 1\tmax = 2.9501166838962876\tmin = -3.2138452267992768\n",
      "i = 2\tmax = 3.4158023522975527\tmin = -3.8486831161822876\n",
      "i = 3\tmax = 4.515433167850808\tmin = -2.911305947648851\n",
      "i = 4\tmax = 3.6203376013134143\tmin = -2.772539818802043\n",
      "i = 5\tmax = 3.0769317516130235\tmin = -3.278670979527876\n",
      "i = 6\tmax = 2.5808550699012462\tmin = -2.2398433768917725\n",
      "i = 7\tmax = 2.4337646146494665\tmin = -1.7871526568582314\n",
      "i = 8\tmax = 3.149150250713256\tmin = -3.018415282497925\n",
      "i = 9\tmax = 2.986019700883132\tmin = -3.120779373144496\n",
      "i = 10\tmax = 3.8782439284827896\tmin = -3.299328079716339\n",
      "i = 11\tmax = 3.623047343376457\tmin = -2.7616021917989158\n",
      "i = 12\tmax = 3.2361031624792886\tmin = -3.3811066073486264\n",
      "i = 13\tmax = 4.298622074423032\tmin = -3.861908868737605\n",
      "i = 14\tmax = 2.435664338610584\tmin = -2.3730818988953573\n",
      "i = 15\tmax = 4.3698082508496405\tmin = -3.5034238047636714\n",
      "i = 16\tmax = 3.173963786497875\tmin = -3.48011705806593\n",
      "i = 17\tmax = 2.564398433327801\tmin = -2.7498133799233195\n",
      "i = 18\tmax = 3.061628534313356\tmin = -2.62900687130902\n",
      "i = 19\tmax = 3.073667284435917\tmin = -2.064199617439862\n",
      "i = 20\tmax = 2.7679026202968884\tmin = -3.4878756258148584\n",
      "i = 21\tmax = 3.2203113710726705\tmin = -3.2577131208579884\n",
      "i = 22\tmax = 3.5332645874485555\tmin = -3.283354543399584\n",
      "i = 23\tmax = 3.19915484856648\tmin = -3.3503350774202056\n",
      "i = 24\tmax = 2.424138361519837\tmin = -2.016844681505054\n",
      "i = 25\tmax = 2.934155630717395\tmin = -2.825141901472712\n",
      "i = 26\tmax = 2.7839404017461633\tmin = -2.8691609130265956\n",
      "i = 27\tmax = 2.908427651310183\tmin = -3.452320773372793\n",
      "i = 28\tmax = 3.500255025105094\tmin = -3.640231805308525\n",
      "i = 29\tmax = 2.858876452758684\tmin = -3.4719018986866432\n",
      "i = 30\tmax = 2.1762190478638517\tmin = -3.2365409218026775\n",
      "i = 31\tmax = 3.2793351732463574\tmin = -3.414049781835712\n",
      "i = 32\tmax = 3.155321604695546\tmin = -3.4714184085336854\n",
      "i = 33\tmax = 3.449935654465179\tmin = -3.005228514196723\n",
      "i = 34\tmax = 3.021187149860935\tmin = -2.936568567758232\n",
      "i = 35\tmax = 3.4607304095274185\tmin = -2.815232177726039\n",
      "i = 36\tmax = 3.0921504874858314\tmin = -3.335371296789586\n",
      "i = 37\tmax = 2.184819761991053\tmin = -2.076009543628336\n",
      "i = 38\tmax = 2.5859271989634673\tmin = -3.1088276949608167\n",
      "i = 39\tmax = 3.565035702695434\tmin = -3.1549863256340798\n",
      "i = 40\tmax = 2.280764884367957\tmin = -2.588524927068452\n",
      "i = 41\tmax = 3.001497400136087\tmin = -3.040518927296794\n",
      "i = 42\tmax = 2.772001708387739\tmin = -3.0163436326652255\n",
      "i = 43\tmax = 3.6140380626934867\tmin = -4.154557632119238\n",
      "i = 44\tmax = 2.8124113658593264\tmin = -3.181583260179556\n",
      "i = 45\tmax = 2.963679859664223\tmin = -2.904959985302122\n",
      "i = 46\tmax = 3.056737866676671\tmin = -2.7045484986438004\n",
      "i = 47\tmax = 2.7188013100963624\tmin = -3.029133435252443\n",
      "i = 48\tmax = 3.136375427422355\tmin = -2.5652656981019497\n",
      "i = 49\tmax = 3.3650147813530618\tmin = -3.2384520602272544\n"
     ]
    }
   ],
   "source": [
    "for i in range(50):\n",
    "    phy = generate_physical_coordinates(randint(10, 1000))\n",
    "    maxi = phy.max()     \n",
    "    mini = phy.min() \n",
    "    print('i = {}\\tmax = {}\\tmin = {}'.format(i, maxi, mini))"
   ]
  },
  {
   "cell_type": "code",
   "execution_count": 6,
   "metadata": {},
   "outputs": [
    {
     "data": {
      "text/plain": [
       "-3.138563254284454"
      ]
     },
     "execution_count": 6,
     "metadata": {},
     "output_type": "execute_result"
    }
   ],
   "source": [
    "mini "
   ]
  },
  {
   "cell_type": "code",
   "execution_count": 7,
   "metadata": {},
   "outputs": [
    {
     "data": {
      "text/plain": [
       "3.3787423561928254"
      ]
     },
     "execution_count": 7,
     "metadata": {},
     "output_type": "execute_result"
    }
   ],
   "source": [
    "maxi"
   ]
  },
  {
   "cell_type": "code",
   "execution_count": null,
   "metadata": {},
   "outputs": [],
   "source": []
  }
 ],
 "metadata": {
  "kernelspec": {
   "display_name": "Python 3",
   "language": "python",
   "name": "python3"
  },
  "language_info": {
   "codemirror_mode": {
    "name": "ipython",
    "version": 3
   },
   "file_extension": ".py",
   "mimetype": "text/x-python",
   "name": "python",
   "nbconvert_exporter": "python",
   "pygments_lexer": "ipython3",
   "version": "3.7.3"
  }
 },
 "nbformat": 4,
 "nbformat_minor": 2
}
